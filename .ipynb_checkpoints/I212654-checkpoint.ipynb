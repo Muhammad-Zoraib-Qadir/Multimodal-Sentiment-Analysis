{
 "cells": [
  {
   "cell_type": "markdown",
   "metadata": {},
   "source": [
    "# Data Analysis"
   ]
  },
  {
   "cell_type": "code",
   "execution_count": 1,
   "metadata": {},
   "outputs": [],
   "source": [
    "import numpy as np\n",
    "import pandas as pd\n",
    "import matplotlib.pyplot as plt\n",
    "import re\n",
    "import os\n",
    "\n",
    "from sklearn.model_selection import train_test_split"
   ]
  },
  {
   "cell_type": "code",
   "execution_count": 2,
   "metadata": {},
   "outputs": [
    {
     "name": "stdout",
     "output_type": "stream",
     "text": [
      "     image_name                                     text_corrected  \\\n",
      "0   image_1.jpg  LOOK THERE MY FRIEND LIGHTYEAR NOW ALL SOHALIK...   \n",
      "1  image_2.jpeg  The best of #10 YearChallenge! Completed in le...   \n",
      "2   image_3.JPG  Sam Thorne @Strippin ( Follow Follow Saw every...   \n",
      "3   image_4.png              10 Year Challenge - Sweet Dee Edition   \n",
      "4   image_5.png  10 YEAR CHALLENGE WITH NO FILTER 47 Hilarious ...   \n",
      "\n",
      "  overall_sentiment  \n",
      "0     very_positive  \n",
      "1     very_positive  \n",
      "2          positive  \n",
      "3          positive  \n",
      "4           neutral  \n"
     ]
    }
   ],
   "source": [
    "DF = pd.read_csv(\"labels.csv\")\n",
    "DF = DF.drop(columns=[\"Unnamed: 0\", \"text_ocr\"])\n",
    "print(DF.head())"
   ]
  },
  {
   "cell_type": "code",
   "execution_count": 3,
   "metadata": {},
   "outputs": [
    {
     "name": "stdout",
     "output_type": "stream",
     "text": [
      "<-----NaN Values----->\n",
      "\n",
      "image_name           0\n",
      "text_corrected       5\n",
      "overall_sentiment    0\n",
      "dtype: int64\n"
     ]
    }
   ],
   "source": [
    "print(\"<-----NaN Values----->\\n\")\n",
    "print(DF.isnull().sum())"
   ]
  },
  {
   "cell_type": "code",
   "execution_count": 4,
   "metadata": {},
   "outputs": [
    {
     "name": "stdout",
     "output_type": "stream",
     "text": [
      "Filling NaN Values:\n",
      "\n",
      "image_name           0\n",
      "text_corrected       0\n",
      "overall_sentiment    0\n",
      "dtype: int64\n"
     ]
    }
   ],
   "source": [
    "print(\"Filling NaN Values:\\n\")\n",
    "DF = DF.fillna(\"\")\n",
    "print(DF.isnull().sum())"
   ]
  },
  {
   "cell_type": "code",
   "execution_count": 5,
   "metadata": {},
   "outputs": [
    {
     "name": "stdout",
     "output_type": "stream",
     "text": [
      "Count of Unique Labels:\n",
      "\n"
     ]
    },
    {
     "data": {
      "text/plain": [
       "positive         3127\n",
       "neutral          2201\n",
       "very_positive    1033\n",
       "negative          480\n",
       "very_negative     151\n",
       "Name: overall_sentiment, dtype: int64"
      ]
     },
     "execution_count": 5,
     "metadata": {},
     "output_type": "execute_result"
    }
   ],
   "source": [
    "print(\"Count of Unique Labels:\\n\")\n",
    "DF[\"overall_sentiment\"].value_counts()"
   ]
  },
  {
   "cell_type": "code",
   "execution_count": 6,
   "metadata": {},
   "outputs": [],
   "source": [
    "for i in range(len(DF[\"overall_sentiment\"])):\n",
    "    if DF[\"overall_sentiment\"][i] == \"very_positive\":\n",
    "        DF[\"overall_sentiment\"][i] = \"positive\"\n",
    "    elif DF[\"overall_sentiment\"][i] == \"very_negative\":\n",
    "        DF[\"overall_sentiment\"][i] = \"negative\""
   ]
  },
  {
   "cell_type": "code",
   "execution_count": 7,
   "metadata": {},
   "outputs": [
    {
     "name": "stdout",
     "output_type": "stream",
     "text": [
      "Count of Unique Labels After Concatenating:\n",
      "\n"
     ]
    },
    {
     "data": {
      "text/plain": [
       "positive    4160\n",
       "neutral     2201\n",
       "negative     631\n",
       "Name: overall_sentiment, dtype: int64"
      ]
     },
     "execution_count": 7,
     "metadata": {},
     "output_type": "execute_result"
    }
   ],
   "source": [
    "print(\"Count of Unique Labels After Concatenating:\\n\")\n",
    "DF[\"overall_sentiment\"].value_counts()"
   ]
  },
  {
   "cell_type": "code",
   "execution_count": 8,
   "metadata": {},
   "outputs": [
    {
     "data": {
      "text/plain": [
       "(array([4160.,    0.,    0.,    0.,    0., 2201.,    0.,    0.,    0.,\n",
       "         631.]),\n",
       " array([0. , 0.2, 0.4, 0.6, 0.8, 1. , 1.2, 1.4, 1.6, 1.8, 2. ]),\n",
       " <BarContainer object of 10 artists>)"
      ]
     },
     "execution_count": 8,
     "metadata": {},
     "output_type": "execute_result"
    },
    {
     "data": {
      "image/png": "[encoded data removed]",
      "text/plain": [
       "<Figure size 432x288 with 1 Axes>"
      ]
     },
     "metadata": {
      "needs_background": "light"
     },
     "output_type": "display_data"
    }
   ],
   "source": [
    "Plot = np.array(DF[\"overall_sentiment\"])\n",
    "plt.hist(Plot)"
   ]
  },
  {
   "cell_type": "markdown",
   "metadata": {},
   "source": [
    "# Text Pre Processing"
   ]
  },
  {
   "cell_type": "code",
   "execution_count": 9,
   "metadata": {},
   "outputs": [
    {
     "name": "stderr",
     "output_type": "stream",
     "text": [
      "[nltk_data] Downloading package stopwords to\n",
      "[nltk_data]     C:\\Users\\Zoraib\\AppData\\Roaming\\nltk_data...\n",
      "[nltk_data]   Package stopwords is already up-to-date!\n"
     ]
    },
    {
     "data": {
      "text/plain": [
       "True"
      ]
     },
     "execution_count": 9,
     "metadata": {},
     "output_type": "execute_result"
    }
   ],
   "source": [
    "import nltk\n",
    "from nltk.corpus import stopwords\n",
    "nltk.download(\"stopwords\")"
   ]
  },
  {
   "cell_type": "code",
   "execution_count": 10,
   "metadata": {},
   "outputs": [
    {
     "name": "stdout",
     "output_type": "stream",
     "text": [
      "After Cleaning:\n",
      "\n",
      "0    look friend lightyear sohalikut trend play 10 ...\n",
      "1    best 10 yearchallenge completed less 4 years k...\n",
      "2    sam thorne strippin follow follow saw everyone...\n",
      "3                  10 year challenge sweet dee edition\n",
      "4    10 year challenge filter 47 hilarious 10 year ...\n",
      "Name: text_corrected, dtype: object\n"
     ]
    }
   ],
   "source": [
    "for i in range(len(DF[\"text_corrected\"])):\n",
    "    Temp = (DF[\"text_corrected\"][i]).lower().strip()\n",
    "    Temp = re.sub(r\"(@\\[A-Za-z0-9]+)|([^0-9A-Za-z \\t])|(\\w+:\\/\\/\\S+)|^rt|http.+?\", \"\", Temp)\n",
    "    Temp = [a for a in Temp.split() if a not in stopwords.words(\"english\")]\n",
    "    DF[\"text_corrected\"][i] = \" \".join(Temp)\n",
    "print(\"After Cleaning:\\n\")    \n",
    "print(DF[\"text_corrected\"].head())"
   ]
  },
  {
   "cell_type": "code",
   "execution_count": 11,
   "metadata": {},
   "outputs": [
    {
     "name": "stdout",
     "output_type": "stream",
     "text": [
      "Text After Using TfidfVectorizer:\n",
      "\n",
      "  (0, 6036)\t0.16656738922875974\n",
      "  (0, 4310)\t0.2476871605127597\n",
      "  (0, 2348)\t0.2904840421484584\n",
      "  (0, 13243)\t0.2434533131861204\n",
      "  (0, 36)\t0.2589590018626252\n",
      "  (0, 9112)\t0.277046028584044\n",
      "  (0, 12138)\t0.4165842032917911\n",
      "  (0, 10993)\t0.4165842032917911\n",
      "  (0, 7067)\t0.4165842032917911\n",
      "  (0, 4816)\t0.2303692393012234\n",
      "  (0, 7191)\t0.22303459957047753\n"
     ]
    }
   ],
   "source": [
    "from sklearn.feature_extraction.text import TfidfVectorizer\n",
    "Vector = TfidfVectorizer().fit_transform(DF[\"text_corrected\"])\n",
    "print(\"Text After Using TfidfVectorizer:\\n\")\n",
    "print(Vector[0])"
   ]
  },
  {
   "cell_type": "code",
   "execution_count": 12,
   "metadata": {},
   "outputs": [
    {
     "name": "stdout",
     "output_type": "stream",
     "text": [
      "Overall Sentiment After Label Encoding:\n",
      "\n",
      "0       2\n",
      "1       2\n",
      "2       2\n",
      "3       2\n",
      "4       1\n",
      "       ..\n",
      "6987    1\n",
      "6988    1\n",
      "6989    2\n",
      "6990    2\n",
      "6991    2\n",
      "Name: overall_sentiment, Length: 6992, dtype: int64\n"
     ]
    }
   ],
   "source": [
    "DF[\"overall_sentiment\"] = DF[\"overall_sentiment\"].map({\"positive\": 2, \"neutral\": 1, \"negative\": 0})\n",
    "# DF[\"overall_sentiment\"] = DF[\"overall_sentiment\"].map({\"very_positive\": 4, \"very_negative\": 5, \"positive\": 2, \"neutral\": 1, \"negative\": 0})\n",
    "print(\"Overall Sentiment After Label Encoding:\\n\")\n",
    "print(DF[\"overall_sentiment\"])"
   ]
  },
  {
   "cell_type": "code",
   "execution_count": 13,
   "metadata": {},
   "outputs": [
    {
     "name": "stdout",
     "output_type": "stream",
     "text": [
      "Shapes of X1 and Y1:\n",
      "\n",
      "(12480, 13361)\n",
      "(12480,)\n"
     ]
    }
   ],
   "source": [
    "from imblearn.over_sampling import RandomOverSampler\n",
    "X1, Y1 = RandomOverSampler().fit_resample(Vector, DF[\"overall_sentiment\"])\n",
    "print(\"Shapes of X1 and Y1:\\n\")\n",
    "print(X1.shape)\n",
    "print(Y1.shape)"
   ]
  },
  {
   "cell_type": "code",
   "execution_count": 14,
   "metadata": {},
   "outputs": [
    {
     "name": "stdout",
     "output_type": "stream",
     "text": [
      "Shapes of XTrain1, XTest1, YTrain1, YTest1:\n",
      "\n",
      "(9984, 13361)\n",
      "(2496, 13361)\n",
      "(9984,)\n",
      "(2496,)\n"
     ]
    }
   ],
   "source": [
    "XTrain1, XTest1, YTrain1, YTest1 = train_test_split(X1, Y1, train_size=0.8, shuffle=True)\n",
    "print(\"Shapes of XTrain1, XTest1, YTrain1, YTest1:\\n\")\n",
    "print(XTrain1.shape)\n",
    "print(XTest1.shape)\n",
    "print(YTrain1.shape)\n",
    "print(YTest1.shape)"
   ]
  },
  {
   "cell_type": "markdown",
   "metadata": {},
   "source": [
    "# Image Pre Processing"
   ]
  },
  {
   "cell_type": "code",
   "execution_count": 15,
   "metadata": {},
   "outputs": [],
   "source": [
    "# Resizing all the images"
   ]
  },
  {
   "cell_type": "code",
   "execution_count": 16,
   "metadata": {},
   "outputs": [],
   "source": [
    "# # from skimage.io import imread\n",
    "# import cv2\n",
    "# X = np.array([])\n",
    "# j = 0\n",
    "# Directory = \"C:\\\\Users\\\\Zoraib\\\\Desktop\\\\i212654\\\\images\"\n",
    "# for i in os.listdir(Directory):\n",
    "#     ImageName = Directory + \"/\" + i\n",
    "#     GrayImage = cv2.imread(ImageName, 0)\n",
    "#     FlattenImage = GrayImage.flatten()\n",
    "#     if j == 0:\n",
    "#         X = np.array([FlattenImage])\n",
    "#     else:\n",
    "#         X = np.vstack([X, FlattenImage])\n",
    "#     j += 1\n",
    "# print(X)"
   ]
  },
  {
   "cell_type": "code",
   "execution_count": 17,
   "metadata": {},
   "outputs": [
    {
     "name": "stdout",
     "output_type": "stream",
     "text": [
      "[[109 109 109 ...  94  93  93]\n",
      " [255 255 255 ... 238 244 241]\n",
      " [ 31  30  28 ... 233 245 254]\n",
      " ...\n",
      " [211 241 137 ...  69  71  75]\n",
      " [253 255 248 ... 125 122 124]\n",
      " [248 248 248 ... 255 255 255]]\n"
     ]
    }
   ],
   "source": [
    " from skimage.io import imread\n",
    "import numpy\n",
    "\n",
    "import cv2\n",
    "ImageNames = []\n",
    "X = []\n",
    "Directory = \"C:\\\\Users\\\\Zoraib\\\\Desktop\\\\i212654\\\\images\"\n",
    "for i in os.listdir(Directory):\n",
    "    ImageName = Directory + \"/\" + i\n",
    "    GrayImage = cv2.imread(ImageName, 0)\n",
    "    FlattenImage = GrayImage.flatten()\n",
    "    X.append(FlattenImage)\n",
    "    ImageNames.append(i)\n",
    "ImageNames = np.array(ImageNames)\n",
    "X = np.array(X)\n",
    "print(X)"
   ]
  },
  {
   "cell_type": "code",
   "execution_count": 18,
   "metadata": {},
   "outputs": [
    {
     "name": "stdout",
     "output_type": "stream",
     "text": [
      "Shapes of X and ImageNames:\n",
      "\n"
     ]
    },
    {
     "data": {
      "text/plain": [
       "((6992, 10000), (6992,))"
      ]
     },
     "execution_count": 18,
     "metadata": {},
     "output_type": "execute_result"
    }
   ],
   "source": [
    "print(\"Shapes of X and ImageNames:\\n\")\n",
    "X.shape, ImageNames.shape"
   ]
  },
  {
   "cell_type": "code",
   "execution_count": 19,
   "metadata": {
    "scrolled": true
   },
   "outputs": [
    {
     "name": "stdout",
     "output_type": "stream",
     "text": [
      "DF After Sorting:\n",
      "\n",
      "       image_name                                     text_corrected  \\\n",
      "0     image_1.jpg  look friend lightyear sohalikut trend play 10 ...   \n",
      "1    image_10.png  facebook 10 year challenge ploy simple meme mo...   \n",
      "2   image_100.jpg                   drink water may memegeneratorcom   \n",
      "3  image_1000.png  behindscenespic martin scorsese leonardo dicap...   \n",
      "4  image_1001.png                      russian leonardo dicaprio omg   \n",
      "\n",
      "   overall_sentiment  \n",
      "0                  2  \n",
      "1                  2  \n",
      "2                  1  \n",
      "3                  1  \n",
      "4                  2  \n"
     ]
    }
   ],
   "source": [
    "DF = DF.sort_values(\"image_name\").reset_index(drop=True)\n",
    "print(\"DF After Sorting:\\n\")\n",
    "print(DF.head())"
   ]
  },
  {
   "cell_type": "code",
   "execution_count": 20,
   "metadata": {},
   "outputs": [
    {
     "name": "stdout",
     "output_type": "stream",
     "text": [
      "[[109 109 109 ...  94  93  93]\n",
      " [255 255 255 ... 238 244 241]\n",
      " [ 31  30  28 ... 233 245 254]\n",
      " ...\n",
      " [211 241 137 ...  69  71  75]\n",
      " [253 255 248 ... 125 122 124]\n",
      " [248 248 248 ... 255 255 255]]\n"
     ]
    }
   ],
   "source": [
    "Sort = np.argsort(ImageNames)\n",
    "X = X[Sort]\n",
    "print(X)"
   ]
  },
  {
   "cell_type": "code",
   "execution_count": 21,
   "metadata": {},
   "outputs": [
    {
     "name": "stdout",
     "output_type": "stream",
     "text": [
      "[2 2 1 ... 2 2 1]\n"
     ]
    }
   ],
   "source": [
    "Y = np.array(DF[\"overall_sentiment\"])[Sort]\n",
    "print(Y)"
   ]
  },
  {
   "cell_type": "code",
   "execution_count": 22,
   "metadata": {},
   "outputs": [
    {
     "name": "stdout",
     "output_type": "stream",
     "text": [
      "Shapes of X2 and Y2:\n",
      "\n",
      "(12480, 10000)\n",
      "(12480,)\n"
     ]
    }
   ],
   "source": [
    "X2, Y2 = RandomOverSampler().fit_resample(X, Y)\n",
    "print(\"Shapes of X2 and Y2:\\n\")\n",
    "print(X2.shape)\n",
    "print(Y2.shape)"
   ]
  },
  {
   "cell_type": "code",
   "execution_count": 23,
   "metadata": {},
   "outputs": [
    {
     "name": "stdout",
     "output_type": "stream",
     "text": [
      "Shapes of XTrain2, XTest2, YTrain2, YTest2:\n",
      "\n",
      "(9984, 10000)\n",
      "(2496, 10000)\n",
      "(9984,)\n",
      "(2496,)\n"
     ]
    }
   ],
   "source": [
    "XTrain2, XTest2, YTrain2, YTest2 = train_test_split(X2, Y2, train_size=0.8, shuffle=True)\n",
    "print(\"Shapes of XTrain2, XTest2, YTrain2, YTest2:\\n\")\n",
    "print(XTrain2.shape)\n",
    "print(XTest2.shape)\n",
    "print(YTrain2.shape)\n",
    "print(YTest2.shape)"
   ]
  },
  {
   "cell_type": "markdown",
   "metadata": {},
   "source": [
    "# Label Prediction on Text"
   ]
  },
  {
   "cell_type": "code",
   "execution_count": 24,
   "metadata": {},
   "outputs": [],
   "source": [
    "from sklearn.metrics import confusion_matrix, accuracy_score, f1_score\n",
    "Score = []"
   ]
  },
  {
   "cell_type": "code",
   "execution_count": 25,
   "metadata": {},
   "outputs": [
    {
     "name": "stdout",
     "output_type": "stream",
     "text": [
      "Model: KNeighborsClassifier(n_neighbors=10, weights='distance')\n",
      "Accuracy:  0.8762019230769231\n",
      "F1-Score:  0.8742327207886896\n",
      "Confusion Matrix:\n",
      " [[822   6  30]\n",
      " [  0 578  19]\n",
      " [  1 253 787]]\n"
     ]
    }
   ],
   "source": [
    "from sklearn.neighbors import KNeighborsClassifier\n",
    "Model = KNeighborsClassifier(n_neighbors=10, weights=\"distance\")\n",
    "Model.fit(XTrain1, YTrain1)\n",
    "YPred = Model.predict(XTest1)\n",
    "print(\"Model:\", Model)\n",
    "print(\"Accuracy: \", accuracy_score(YPred, YTest1))\n",
    "print(\"F1-Score: \", f1_score(YPred, YTest1, average=\"macro\"))\n",
    "print(\"Confusion Matrix:\\n\", confusion_matrix(YPred, YTest1))\n",
    "Score.append(f1_score(YPred, YTest1, average=\"macro\"))"
   ]
  },
  {
   "cell_type": "code",
   "execution_count": 26,
   "metadata": {},
   "outputs": [
    {
     "name": "stdout",
     "output_type": "stream",
     "text": [
      "Model: DecisionTreeClassifier()\n",
      "Accuracy:  0.7876602564102564\n",
      "F1-Score:  0.7806776013079725\n",
      "Confusion Matrix:\n",
      " [[822  25  99]\n",
      " [  0 653 246]\n",
      " [  1 159 491]]\n"
     ]
    }
   ],
   "source": [
    "from sklearn.tree import DecisionTreeClassifier\n",
    "Model = DecisionTreeClassifier(splitter=\"best\")\n",
    "Model.fit(XTrain1, YTrain1)\n",
    "YPred = Model.predict(XTest1)\n",
    "print(\"Model:\", Model)\n",
    "print(\"Accuracy: \", accuracy_score(YPred, YTest1))\n",
    "print(\"F1-Score: \", f1_score(YPred, YTest1, average=\"macro\"))\n",
    "print(\"Confusion Matrix:\\n\", confusion_matrix(YPred, YTest1))\n",
    "Score.append(f1_score(YPred, YTest1, average=\"macro\"))"
   ]
  },
  {
   "cell_type": "code",
   "execution_count": 27,
   "metadata": {},
   "outputs": [
    {
     "name": "stdout",
     "output_type": "stream",
     "text": [
      "Model: RandomForestClassifier(n_estimators=50)\n",
      "Accuracy:  0.8333333333333334\n",
      "F1-Score:  0.8324337693841591\n",
      "Confusion Matrix:\n",
      " [[821   8  34]\n",
      " [  1 628 171]\n",
      " [  1 201 631]]\n"
     ]
    }
   ],
   "source": [
    "from sklearn.ensemble import RandomForestClassifier\n",
    "Model = RandomForestClassifier(n_estimators=50)\n",
    "Model.fit(XTrain1, YTrain1)\n",
    "YPred = Model.predict(XTest1)\n",
    "print(\"Model:\", Model)\n",
    "print(\"Accuracy: \", accuracy_score(YPred, YTest1))\n",
    "print(\"F1-Score: \", f1_score(YPred, YTest1, average=\"macro\"))\n",
    "print(\"Confusion Matrix:\\n\", confusion_matrix(YPred, YTest1))\n",
    "Score.append(f1_score(YPred, YTest1, average=\"macro\"))"
   ]
  },
  {
   "cell_type": "markdown",
   "metadata": {},
   "source": [
    "# Label Prediction on Image"
   ]
  },
  {
   "cell_type": "code",
   "execution_count": 28,
   "metadata": {},
   "outputs": [
    {
     "name": "stdout",
     "output_type": "stream",
     "text": [
      "Model: KNeighborsClassifier(n_neighbors=10, weights='distance')\n",
      "Accuracy:  0.7363782051282052\n",
      "F1-Score:  0.7163793354863053\n",
      "Confusion Matrix:\n",
      " [[840  84 246]\n",
      " [  5 636 216]\n",
      " [  3 104 362]]\n"
     ]
    }
   ],
   "source": [
    "from sklearn.neighbors import KNeighborsClassifier\n",
    "Model = KNeighborsClassifier(n_neighbors=10, weights=\"distance\")\n",
    "Model.fit(XTrain2, YTrain2)\n",
    "YPred = Model.predict(XTest2)\n",
    "print(\"Model:\", Model)\n",
    "print(\"Accuracy: \", accuracy_score(YPred, YTest2))\n",
    "print(\"F1-Score: \", f1_score(YPred, YTest2, average=\"macro\"))\n",
    "print(\"Confusion Matrix:\\n\", confusion_matrix(YPred, YTest2))\n",
    "Score.append(f1_score(YPred, YTest2, average=\"macro\"))"
   ]
  },
  {
   "cell_type": "code",
   "execution_count": null,
   "metadata": {},
   "outputs": [],
   "source": [
    "from sklearn.tree import DecisionTreeClassifier\n",
    "Model = DecisionTreeClassifier(splitter=\"best\")\n",
    "Model.fit(XTrain2, YTrain2)\n",
    "YPred = Model.predict(XTest2)\n",
    "print(\"Model:\", Model)\n",
    "print(\"Accuracy: \", accuracy_score(YPred, YTest2))\n",
    "print(\"F1-Score: \", f1_score(YPred, YTest2, average=\"macro\"))\n",
    "print(\"Confusion Matrix:\\n\", confusion_matrix(YPred, YTest2))\n",
    "Score.append(f1_score(YPred, YTest2, average=\"macro\"))"
   ]
  },
  {
   "cell_type": "code",
   "execution_count": null,
   "metadata": {},
   "outputs": [],
   "source": [
    "from sklearn.ensemble import RandomForestClassifier\n",
    "Model = RandomForestClassifier(n_estimators=50)\n",
    "Model.fit(XTrain2, YTrain2)\n",
    "YPred = Model.predict(XTest2)\n",
    "print(\"Model:\", Model)\n",
    "print(\"Accuracy: \", accuracy_score(YPred, YTest2))\n",
    "print(\"F1-Score: \", f1_score(YPred, YTest2, average=\"macro\"))\n",
    "print(\"Confusion Matrix:\\n\", confusion_matrix(YPred, YTest2))\n",
    "Score.append(f1_score(YPred, YTest2, average=\"macro\"))"
   ]
  },
  {
   "cell_type": "code",
   "execution_count": null,
   "metadata": {},
   "outputs": [],
   "source": [
    "print(\"The Mean F1-Score of all 6 Models:\", np.mean(Score))"
   ]
  },
  {
   "cell_type": "code",
   "execution_count": null,
   "metadata": {},
   "outputs": [],
   "source": []
  }
 ],
 "metadata": {
  "kernelspec": {
   "display_name": "Python 3 (ipykernel)",
   "language": "python",
   "name": "python3"
  },
  "language_info": {
   "codemirror_mode": {
    "name": "ipython",
    "version": 3
   },
   "file_extension": ".py",
   "mimetype": "text/x-python",
   "name": "python",
   "nbconvert_exporter": "python",
   "pygments_lexer": "ipython3",
   "version": "3.10.5"
  }
 },
 "nbformat": 4,
 "nbformat_minor": 2
}
